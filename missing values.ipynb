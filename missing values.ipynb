{
 "cells": [
  {
   "cell_type": "code",
   "execution_count": 1,
   "id": "7c3da434",
   "metadata": {},
   "outputs": [
    {
     "name": "stdout",
     "output_type": "stream",
     "text": [
      "First few rows of the dataset:\n",
      "         Item Code                 Item Name  Loss Rate (%)\n",
      "0  102900005115168          Niushou Shengcai           4.39\n",
      "1  102900005115199         Sichuan Red Cedar          10.46\n",
      "2  102900005115250  Xixia Black Mushroom (1)          10.80\n",
      "3  102900005115625     Local Xiaomao Cabbage           0.18\n",
      "4  102900005115748              White Caitai           8.78\n",
      "\n",
      "Missing values in the dataset:\n",
      "Item Code        0\n",
      "Item Name        0\n",
      "Loss Rate (%)    0\n",
      "dtype: int64\n",
      "\n",
      "Summary statistics of the dataset:\n",
      "          Item Code  Loss Rate (%)\n",
      "count  2.510000e+02     251.000000\n",
      "mean   1.031908e+14       9.426693\n",
      "std    1.048400e+12       5.211027\n",
      "min    1.029000e+14       0.000000\n",
      "25%    1.029000e+14       8.225000\n",
      "50%    1.029000e+14       9.430000\n",
      "75%    1.029000e+14      11.130000\n",
      "max    1.069740e+14      29.250000\n"
     ]
    }
   ],
   "source": [
    "import pandas as pd\n",
    "\n",
    "# Load the dataset\n",
    "supermarket_data = pd.read_csv(\"C:\\\\Users\\\\shakt\\\\OneDrive\\\\Documents\\\\annex4.csv\")\n",
    "\n",
    "# Display the first few rows of the dataset\n",
    "print(\"First few rows of the dataset:\")\n",
    "print(supermarket_data.head())\n",
    "\n",
    "# Check for missing values\n",
    "missing_values = supermarket_data.isnull().sum()\n",
    "print(\"\\nMissing values in the dataset:\")\n",
    "print(missing_values)\n",
    "\n",
    "# Display summary statistics\n",
    "summary_statistics = supermarket_data.describe()\n",
    "print(\"\\nSummary statistics of the dataset:\")\n",
    "print(summary_statistics)"
   ]
  },
  {
   "cell_type": "code",
   "execution_count": null,
   "id": "3cf3eaee",
   "metadata": {},
   "outputs": [],
   "source": []
  }
 ],
 "metadata": {
  "kernelspec": {
   "display_name": "Python 3 (ipykernel)",
   "language": "python",
   "name": "python3"
  },
  "language_info": {
   "codemirror_mode": {
    "name": "ipython",
    "version": 3
   },
   "file_extension": ".py",
   "mimetype": "text/x-python",
   "name": "python",
   "nbconvert_exporter": "python",
   "pygments_lexer": "ipython3",
   "version": "3.9.13"
  }
 },
 "nbformat": 4,
 "nbformat_minor": 5
}
