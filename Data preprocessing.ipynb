{
 "cells": [
  {
   "cell_type": "code",
   "execution_count": 2,
   "id": "6ccc24b5",
   "metadata": {},
   "outputs": [
    {
     "name": "stdout",
     "output_type": "stream",
     "text": [
      "Original Titanic Dataset:\n",
      "   Survived  Pclass                     Name     Sex   Age  \\\n",
      "0       0.0     3.0   Mr. Owen Harris Braund    male   NaN   \n",
      "1       1.0     1.0                      NaN  female  38.0   \n",
      "2       1.0     3.0    Miss. Laina Heikkinen  female  26.0   \n",
      "3       1.0     1.0                      NaN  female  35.0   \n",
      "4       NaN     3.0  Mr. William Henry Allen    male  35.0   \n",
      "\n",
      "   Siblings/Spouses Aboard  Parents/Children Aboard   Fare  \n",
      "0                      NaN                      NaN  7.250  \n",
      "1                      1.0                      NaN    NaN  \n",
      "2                      NaN                      0.0  7.925  \n",
      "3                      NaN                      0.0    NaN  \n",
      "4                      NaN                      0.0  8.050  \n",
      "\n",
      "Cleaned Titanic Dataset:\n",
      "   Survived  Pclass                     Name     Sex        Age  \\\n",
      "0       0.0     3.0   Mr. Owen Harris Braund    male  29.666798   \n",
      "1       1.0     1.0                      NaN  female  38.000000   \n",
      "2       1.0     3.0    Miss. Laina Heikkinen  female  26.000000   \n",
      "3       1.0     1.0                      NaN  female  35.000000   \n",
      "4       NaN     3.0  Mr. William Henry Allen    male  35.000000   \n",
      "\n",
      "   Siblings/Spouses Aboard  Parents/Children Aboard   Fare  \n",
      "0                      0.0                      NaN  7.250  \n",
      "1                      1.0                      NaN    NaN  \n",
      "2                      0.0                      0.0  7.925  \n",
      "3                      0.0                      0.0    NaN  \n",
      "4                      0.0                      0.0  8.050  \n"
     ]
    }
   ],
   "source": [
    "import pandas as pd\n",
    "import numpy as np\n",
    "\n",
    "# Load the Titanic dataset\n",
    "titanic = pd.read_csv(\"titanic.csv\")\n",
    "\n",
    "# Introduce missing values\n",
    "np.random.seed(42)\n",
    "mask = np.random.rand(*titanic.shape) < 0.2  # 20% missing values\n",
    "titanic[mask] = np.nan\n",
    "\n",
    "# Introduce outliers\n",
    "titanic.loc[titanic['Fare'] > 300, 'Fare'] *= 2  # Increase fare for outliers\n",
    "\n",
    "# Display the first few rows of the dataset\n",
    "print(\"Original Titanic Dataset:\")\n",
    "print(titanic.head())\n",
    "\n",
    "# Handling Missing Values\n",
    "titanic['Age'].fillna(titanic['Age'].mean(), inplace=True)\n",
    "titanic['Siblings/Spouses Aboard'].fillna(titanic['Siblings/Spouses Aboard'].mode()[0], inplace=True)\n",
    "\n",
    "# Handling Outliers\n",
    "Q1 = titanic['Fare'].quantile(0.25)\n",
    "Q3 = titanic['Fare'].quantile(0.75)\n",
    "IQR = Q3 - Q1\n",
    "lower_bound = Q1 - 1.5 * IQR\n",
    "upper_bound = Q3 + 1.5 * IQR\n",
    "\n",
    "titanic['Fare'] = np.clip(titanic['Fare'], lower_bound, upper_bound)\n",
    "\n",
    "# Display the cleaned dataset\n",
    "print(\"\\nCleaned Titanic Dataset:\")\n",
    "print(titanic.head())"
   ]
  },
  {
   "cell_type": "code",
   "execution_count": null,
   "id": "ab54bb51",
   "metadata": {},
   "outputs": [],
   "source": []
  }
 ],
 "metadata": {
  "kernelspec": {
   "display_name": "Python 3 (ipykernel)",
   "language": "python",
   "name": "python3"
  },
  "language_info": {
   "codemirror_mode": {
    "name": "ipython",
    "version": 3
   },
   "file_extension": ".py",
   "mimetype": "text/x-python",
   "name": "python",
   "nbconvert_exporter": "python",
   "pygments_lexer": "ipython3",
   "version": "3.9.13"
  }
 },
 "nbformat": 4,
 "nbformat_minor": 5
}
